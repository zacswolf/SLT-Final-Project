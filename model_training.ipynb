{
 "cells": [
  {
   "cell_type": "code",
   "execution_count": 1,
   "metadata": {},
   "outputs": [],
   "source": [
    "# init imports\n",
    "\n",
    "import os\n",
    "import numpy as np\n",
    "import tensorflow as tf\n",
    "from tensorflow.keras.layers import (Dense, LSTM)\n",
    "import matplotlib.pyplot as plt"
   ]
  },
  {
   "cell_type": "code",
   "execution_count": 2,
   "metadata": {},
   "outputs": [],
   "source": [
    "def view_midi(np_array):\n",
    "    np_array = np_array.reshape(np_array.shape[0]*np_array.shape[1], np_array.shape[2])\n",
    "    midi_array = np.flip(np_array.T, axis=0)\n",
    "    f = plt.figure()\n",
    "    f.set_figwidth(20)\n",
    "    f.set_figheight(10)\n",
    "    plt.imshow(midi_array, cmap='binary', interpolation='None', aspect=\"auto\")\n",
    "    plt.show()\n",
    "    return f"
   ]
  },
  {
   "cell_type": "code",
   "execution_count": 3,
   "metadata": {},
   "outputs": [
    {
     "name": "stdout",
     "output_type": "stream",
     "text": [
      "system version:  3.10.6 (tags/v3.10.6:9c7b4bd, Aug  1 2022, 21:53:49) [MSC v.1932 64 bit (AMD64)]\n",
      "tensorflow version:  2.10.1\n",
      "available devices:  ['/device:CPU:0', '/device:GPU:0']\n",
      "Num GPUs Available:  1\n",
      "| ID | GPU | MEM |\n",
      "------------------\n",
      "|  0 |  6% | 12% |\n"
     ]
    }
   ],
   "source": [
    "from tensorflow.python.client import device_lib\n",
    "import sys\n",
    "import GPUtil\n",
    "\n",
    "from tensorflow.compat.v1 import ConfigProto\n",
    "from tensorflow.compat.v1 import InteractiveSession\n",
    "\n",
    "# print out system information\n",
    "print ('system version: ', sys.version)\n",
    "print('tensorflow version: ', tf.__version__)\n",
    "def get_available_devices():\n",
    "    local_device_protos = device_lib.list_local_devices()\n",
    "    return [x.name for x in local_device_protos]\n",
    "print('available devices: ', get_available_devices()) \n",
    "\n",
    "# set gpu as device\n",
    "gpus = tf.config.list_physical_devices('GPU')\n",
    "print(\"Num GPUs Available: \", len(gpus))\n",
    "tf.config.set_visible_devices(gpus[0], 'GPU')\n",
    "\n",
    "# allow gpu growth\n",
    "config = ConfigProto()\n",
    "config.gpu_options.allow_growth = True\n",
    "session = InteractiveSession(config=config)\n",
    "\n",
    "# get gpu info\n",
    "GPUtil.showUtilization()"
   ]
  },
  {
   "cell_type": "code",
   "execution_count": 4,
   "metadata": {},
   "outputs": [],
   "source": [
    "# model\n",
    "\n",
    "def my_model(num_hidden):\n",
    "  model = tf.keras.Sequential()\n",
    "  model.add(Dense(128, activation='relu'))\n",
    "  model.add(LSTM(units=num_hidden, activation='tanh', input_shape=(1, 128)))\n",
    "  model.add(Dense(64, activation='relu'))\n",
    "  model.add(Dense(9, activation='sigmoid', name='output'))\n",
    "  return model\n"
   ]
  },
  {
   "cell_type": "code",
   "execution_count": 5,
   "metadata": {},
   "outputs": [],
   "source": [
    "# loss and optimizer\n",
    "\n",
    "def macro_f1(y, y_hat, thresh=0.5):\n",
    "    \"\"\"Compute the macro F1-score on a batch of observations (average F1 across labels)\n",
    "    \n",
    "    Args:\n",
    "        y (int32 Tensor): labels array of shape (BATCH_SIZE, N_LABELS)\n",
    "        y_hat (float32 Tensor): probability matrix from forward propagation of shape (BATCH_SIZE, N_LABELS)\n",
    "        thresh: probability value above which we predict positive\n",
    "        \n",
    "    Returns:\n",
    "        macro_f1 (scalar Tensor): value of macro F1 for the batch\n",
    "    \"\"\"\n",
    "    y_pred = tf.cast(tf.greater(y_hat, thresh), tf.float32)\n",
    "    tp = tf.cast(tf.math.count_nonzero(y_pred * y, axis=0), tf.float32)\n",
    "    fp = tf.cast(tf.math.count_nonzero(y_pred * (1 - y), axis=0), tf.float32)\n",
    "    fn = tf.cast(tf.math.count_nonzero((1 - y_pred) * y, axis=0), tf.float32)\n",
    "    f1 = 2*tp / (2*tp + fn + fp + 1e-16)\n",
    "    macro_f1 = tf.reduce_mean(f1)\n",
    "    return macro_f1\n",
    "  \n",
    "def macro_soft_f1(y, y_hat):\n",
    "    \"\"\"Compute the macro soft F1-score as a cost.\n",
    "    Average (1 - soft-F1) across all labels.\n",
    "    Use probability values instead of binary predictions.\n",
    "    \n",
    "    Args:\n",
    "        y (int32 Tensor): targets array of shape (BATCH_SIZE, N_LABELS)\n",
    "        y_hat (float32 Tensor): probability matrix of shape (BATCH_SIZE, N_LABELS)\n",
    "        \n",
    "    Returns:\n",
    "        cost (scalar Tensor): value of the cost function for the batch\n",
    "    \"\"\"\n",
    "    \n",
    "    y = tf.cast(y, tf.float32)\n",
    "    y_hat = tf.cast(y_hat, tf.float32)\n",
    "    tp = tf.reduce_sum(y_hat * y, axis=0)\n",
    "    fp = tf.reduce_sum(y_hat * (1 - y), axis=0)\n",
    "    fn = tf.reduce_sum((1 - y_hat) * y, axis=0)\n",
    "    soft_f1 = 2*tp / (2*tp + fn + fp + 1e-16)\n",
    "    cost = 1 - soft_f1 # reduce 1 - soft-f1 in order to increase soft-f1\n",
    "    macro_cost = tf.reduce_mean(cost) # average on all labels\n",
    "    return macro_cost"
   ]
  },
  {
   "cell_type": "code",
   "execution_count": 6,
   "metadata": {},
   "outputs": [
    {
     "name": "stdout",
     "output_type": "stream",
     "text": [
      "Model: \"sequential\"\n",
      "_________________________________________________________________\n",
      " Layer (type)                Output Shape              Param #   \n",
      "=================================================================\n",
      " dense (Dense)               (None, 1, 128)            16512     \n",
      "                                                                 \n",
      " lstm (LSTM)                 (None, 128)               131584    \n",
      "                                                                 \n",
      " dense_1 (Dense)             (None, 64)                8256      \n",
      "                                                                 \n",
      " output (Dense)              (None, 9)                 585       \n",
      "                                                                 \n",
      "=================================================================\n",
      "Total params: 156,937\n",
      "Trainable params: 156,937\n",
      "Non-trainable params: 0\n",
      "_________________________________________________________________\n"
     ]
    }
   ],
   "source": [
    "# create new model\n",
    "HIDDEN_DIM = 128\n",
    "LR = 0.00001\n",
    "INPUT_SHAPE = (None, 1, 128)\n",
    "\n",
    "model = my_model(HIDDEN_DIM)\n",
    "model.compile(\n",
    "  optimizer=tf.keras.optimizers.Adam(learning_rate=LR),\n",
    "  loss=macro_soft_f1,\n",
    "  metrics=[macro_f1],\n",
    ")\n",
    "\n",
    "model.build(INPUT_SHAPE)\n",
    "model.summary()"
   ]
  },
  {
   "cell_type": "code",
   "execution_count": 21,
   "metadata": {},
   "outputs": [
    {
     "name": "stdout",
     "output_type": "stream",
     "text": [
      "feats.shape:  (6522, 100, 128)\n",
      "labels.shape:  (6522, 100, 9)\n",
      "new_0:  65220  rem:  0\n"
     ]
    },
    {
     "ename": "IndexError",
     "evalue": "index 65220 is out of bounds for axis 0 with size 65220",
     "output_type": "error",
     "traceback": [
      "\u001b[1;31m---------------------------------------------------------------------------\u001b[0m",
      "\u001b[1;31mIndexError\u001b[0m                                Traceback (most recent call last)",
      "Cell \u001b[1;32mIn [21], line 28\u001b[0m\n\u001b[0;32m     26\u001b[0m \u001b[39mfor\u001b[39;00m t \u001b[39min\u001b[39;00m \u001b[39mrange\u001b[39m(train_labels_npy\u001b[39m.\u001b[39mshape[\u001b[39m0\u001b[39m] \u001b[39m-\u001b[39m \u001b[39m1\u001b[39m):\n\u001b[0;32m     27\u001b[0m     \u001b[39mif\u001b[39;00m t \u001b[39m%\u001b[39m \u001b[39m2\u001b[39m \u001b[39m==\u001b[39m \u001b[39m0\u001b[39m:\n\u001b[1;32m---> 28\u001b[0m         new_labels[i] \u001b[39m=\u001b[39m train_labels_npy[t] \u001b[39m+\u001b[39m train_labels_npy[t\u001b[39m-\u001b[39m\u001b[39m1\u001b[39m]\n\u001b[0;32m     29\u001b[0m         i \u001b[39m+\u001b[39m\u001b[39m=\u001b[39m \u001b[39m1\u001b[39m\n\u001b[0;32m     30\u001b[0m train_labels_npy \u001b[39m=\u001b[39m new_labels\n",
      "\u001b[1;31mIndexError\u001b[0m: index 65220 is out of bounds for axis 0 with size 65220"
     ]
    }
   ],
   "source": [
    "\n",
    "DATA_ID = '_5s_20hz'\n",
    "WINDOW_LEN = 10\n",
    "dataset_feats_path = \"data/dataset\" + DATA_ID + \"/\" + \"train_feats\" + DATA_ID + \".npy\"\n",
    "dataset_labels_path = \"data/dataset\" + DATA_ID + \"/\" + \"train_labels\" + DATA_ID + \".npy\"\n",
    "\n",
    "with tf.device('/CPU:0'):\n",
    "    # load in data\n",
    "    train_feats_npy = np.load(dataset_feats_path, allow_pickle=True)\n",
    "    train_labels_npy = np.load(dataset_labels_path, allow_pickle=True)\n",
    "    print ('feats.shape: ', train_feats_npy.shape)\n",
    "    print ('labels.shape: ', train_labels_npy.shape)\n",
    "    \n",
    "    # reshape numpy arrays\n",
    "    train_feats_npy = train_feats_npy.reshape(train_feats_npy.shape[0]*train_feats_npy.shape[1], train_feats_npy.shape[2])\n",
    "    train_labels_npy = train_labels_npy.reshape(train_labels_npy.shape[0]*train_labels_npy.shape[1], train_labels_npy.shape[2])\n",
    "    \n",
    "    new_0 = int(train_feats_npy.shape[0]/WINDOW_LEN)\n",
    "    rem = train_feats_npy.shape[0] - (new_0 * WINDOW_LEN)\n",
    "    \n",
    "    print ('new_0: ', new_0, ' rem: ', rem)\n",
    "    train_feats_npy = train_feats_npy.reshape(new_0, WINDOW_LEN, 128)\n",
    "    \n",
    "    temp_labels = np.zeros(new_0, 9)\n",
    "    for i in range(train_labels_npy.shape[0]):\n",
    "        for t in range(train_labels_npy.shape[1]):\n",
    "            pass #TODO reshape labels array\n",
    "    \n",
    "    \n",
    "    # train_feats_npy = np.reshape(train_feats_npy, (train_feats_npy.shape[0], 1, train_feats_npy.shape[1]))\n",
    "    # train_labels_npy = np.reshape(train_labels_npy, (train_labels_npy.shape[0], 1, train_labels_npy.shape[1]))\n",
    "    \n",
    "    print ('reshaped-dataset.shape: ', train_feats_npy.shape)\n",
    "    print ('reshaped-dataset.shape: ', train_labels_npy.shape)"
   ]
  },
  {
   "cell_type": "code",
   "execution_count": null,
   "metadata": {},
   "outputs": [],
   "source": [
    "# train the network!\n",
    "EPOCHS = 20\n",
    "BATCH_SIZE = 16\n",
    "\n",
    "model.fit(train_feats_npy, train_labels_npy, epochs=EPOCHS, batch_size=BATCH_SIZE)"
   ]
  }
 ],
 "metadata": {
  "kernelspec": {
   "display_name": "Python 3.10.6 64-bit",
   "language": "python",
   "name": "python3"
  },
  "language_info": {
   "codemirror_mode": {
    "name": "ipython",
    "version": 3
   },
   "file_extension": ".py",
   "mimetype": "text/x-python",
   "name": "python",
   "nbconvert_exporter": "python",
   "pygments_lexer": "ipython3",
   "version": "3.10.6"
  },
  "orig_nbformat": 4,
  "vscode": {
   "interpreter": {
    "hash": "af153e239d61b5c0d363f35fe8a0509d492506f382d017c98fa3fb49fce70a72"
   }
  }
 },
 "nbformat": 4,
 "nbformat_minor": 2
}
