{
 "cells": [
  {
   "cell_type": "code",
   "execution_count": 1,
   "metadata": {},
   "outputs": [],
   "source": [
    "# init imports\n",
    "\n",
    "import os\n",
    "import numpy as np\n",
    "import tensorflow as tf\n",
    "from tensorflow.keras.layers import (Dense, LSTM, ConvLSTM2D, Flatten)\n",
    "import matplotlib.pyplot as plt"
   ]
  },
  {
   "cell_type": "code",
   "execution_count": 2,
   "metadata": {},
   "outputs": [],
   "source": [
    "def view_midi(np_array):\n",
    "    np_array = np_array.reshape(np_array.shape[0]*np_array.shape[1], np_array.shape[2])\n",
    "    midi_array = np.flip(np_array.T, axis=0)\n",
    "    f = plt.figure()\n",
    "    f.set_figwidth(20)\n",
    "    f.set_figheight(10)\n",
    "    plt.imshow(midi_array, cmap='binary', interpolation='None', aspect=\"auto\")\n",
    "    plt.show()\n",
    "    return f"
   ]
  },
  {
   "cell_type": "code",
   "execution_count": 3,
   "metadata": {},
   "outputs": [
    {
     "name": "stdout",
     "output_type": "stream",
     "text": [
      "system version:  3.10.6 (tags/v3.10.6:9c7b4bd, Aug  1 2022, 21:53:49) [MSC v.1932 64 bit (AMD64)]\n",
      "tensorflow version:  2.10.1\n",
      "available devices:  ['/device:CPU:0', '/device:GPU:0']\n",
      "Num GPUs Available:  1\n",
      "| ID | GPU | MEM |\n",
      "------------------\n",
      "|  0 |  3% | 13% |\n"
     ]
    }
   ],
   "source": [
    "from tensorflow.python.client import device_lib\n",
    "import sys\n",
    "import GPUtil\n",
    "\n",
    "from tensorflow.compat.v1 import ConfigProto\n",
    "from tensorflow.compat.v1 import InteractiveSession\n",
    "\n",
    "# print out system information\n",
    "print ('system version: ', sys.version)\n",
    "print('tensorflow version: ', tf.__version__)\n",
    "def get_available_devices():\n",
    "    local_device_protos = device_lib.list_local_devices()\n",
    "    return [x.name for x in local_device_protos]\n",
    "print('available devices: ', get_available_devices()) \n",
    "\n",
    "# set gpu as device\n",
    "gpus = tf.config.list_physical_devices('GPU')\n",
    "print(\"Num GPUs Available: \", len(gpus))\n",
    "tf.config.set_visible_devices(gpus[0], 'GPU')\n",
    "\n",
    "# allow gpu growth\n",
    "config = ConfigProto()\n",
    "config.gpu_options.allow_growth = True\n",
    "session = InteractiveSession(config=config)\n",
    "\n",
    "# get gpu info\n",
    "GPUtil.showUtilization()"
   ]
  },
  {
   "cell_type": "code",
   "execution_count": 4,
   "metadata": {},
   "outputs": [],
   "source": [
    "# model\n",
    "\n",
    "def my_model(num_hidden):\n",
    "  model = tf.keras.Sequential()\n",
    "  model.add(ConvLSTM2D(filters=num_hidden, kernel_size=(5,5), strides=(1,1)))\n",
    "  model.add(Flatten())\n",
    "  # model.add(Con(128, activation='relu'))\n",
    "  #model.add(LSTM(units=num_hidden, activation='tanh', input_shape=(10, 128)))\n",
    "  model.add(Dense(256, activation='relu'))\n",
    "  model.add(Dense(64, activation='relu'))\n",
    "  model.add(Dense(9, activation='sigmoid', name='output'))\n",
    "  return model\n"
   ]
  },
  {
   "cell_type": "code",
   "execution_count": 5,
   "metadata": {},
   "outputs": [],
   "source": [
    "# loss and optimizer\n",
    "\n",
    "def macro_f1(y, y_hat, thresh=0.5):\n",
    "    \"\"\"Compute the macro F1-score on a batch of observations (average F1 across labels)\n",
    "    \n",
    "    Args:\n",
    "        y (int32 Tensor): labels array of shape (BATCH_SIZE, N_LABELS)\n",
    "        y_hat (float32 Tensor): probability matrix from forward propagation of shape (BATCH_SIZE, N_LABELS)\n",
    "        thresh: probability value above which we predict positive\n",
    "        \n",
    "    Returns:\n",
    "        macro_f1 (scalar Tensor): value of macro F1 for the batch\n",
    "    \"\"\"\n",
    "    y_pred = tf.cast(tf.greater(y_hat, thresh), tf.float32)\n",
    "    tp = tf.cast(tf.math.count_nonzero(y_pred * y, axis=0), tf.float32)\n",
    "    fp = tf.cast(tf.math.count_nonzero(y_pred * (1 - y), axis=0), tf.float32)\n",
    "    fn = tf.cast(tf.math.count_nonzero((1 - y_pred) * y, axis=0), tf.float32)\n",
    "    f1 = 2*tp / (2*tp + fn + fp + 1e-16)\n",
    "    macro_f1 = tf.reduce_mean(f1)\n",
    "    return macro_f1\n",
    "  \n",
    "def macro_soft_f1(y, y_hat):\n",
    "    \"\"\"Compute the macro soft F1-score as a cost.\n",
    "    Average (1 - soft-F1) across all labels.\n",
    "    Use probability values instead of binary predictions.\n",
    "    \n",
    "    Args:\n",
    "        y (int32 Tensor): targets array of shape (BATCH_SIZE, N_LABELS)\n",
    "        y_hat (float32 Tensor): probability matrix of shape (BATCH_SIZE, N_LABELS)\n",
    "        \n",
    "    Returns:\n",
    "        cost (scalar Tensor): value of the cost function for the batch\n",
    "    \"\"\"\n",
    "    \n",
    "    y = tf.cast(y, tf.float32)\n",
    "    y_hat = tf.cast(y_hat, tf.float32)\n",
    "    tp = tf.reduce_sum(y_hat * y, axis=0)\n",
    "    fp = tf.reduce_sum(y_hat * (1 - y), axis=0)\n",
    "    fn = tf.reduce_sum((1 - y_hat) * y, axis=0)\n",
    "    soft_f1 = 2*tp / (2*tp + fn + fp + 1e-16)\n",
    "    cost = 1 - soft_f1 # reduce 1 - soft-f1 in order to increase soft-f1\n",
    "    macro_cost = tf.reduce_mean(cost) # average on all labels\n",
    "    return macro_cost"
   ]
  },
  {
   "cell_type": "code",
   "execution_count": 6,
   "metadata": {},
   "outputs": [
    {
     "name": "stdout",
     "output_type": "stream",
     "text": [
      "Model: \"sequential\"\n",
      "_________________________________________________________________\n",
      " Layer (type)                Output Shape              Param #   \n",
      "=================================================================\n",
      " conv_lstm2d (ConvLSTM2D)    (None, 6, 124, 128)       1651712   \n",
      "                                                                 \n",
      " flatten (Flatten)           (None, 95232)             0         \n",
      "                                                                 \n",
      " dense (Dense)               (None, 256)               24379648  \n",
      "                                                                 \n",
      " dense_1 (Dense)             (None, 64)                16448     \n",
      "                                                                 \n",
      " output (Dense)              (None, 9)                 585       \n",
      "                                                                 \n",
      "=================================================================\n",
      "Total params: 26,048,393\n",
      "Trainable params: 26,048,393\n",
      "Non-trainable params: 0\n",
      "_________________________________________________________________\n"
     ]
    }
   ],
   "source": [
    "# create new model\n",
    "HIDDEN_DIM = 128\n",
    "LR = 0.001\n",
    "WINDOW_LEN = 10\n",
    "INPUT_SHAPE = (None, 1, WINDOW_LEN, 128, 1)\n",
    "\n",
    "model = my_model(HIDDEN_DIM)\n",
    "model.compile(\n",
    "  optimizer=tf.keras.optimizers.Adam(learning_rate=LR),\n",
    "  loss=macro_soft_f1,\n",
    "  metrics=[macro_f1],\n",
    ")\n",
    "\n",
    "model.build(INPUT_SHAPE)\n",
    "model.summary()"
   ]
  },
  {
   "cell_type": "code",
   "execution_count": 7,
   "metadata": {},
   "outputs": [],
   "source": [
    "# mappings for our own training (9)\n",
    "KICK = 0\n",
    "SNARE = 1\n",
    "HH_CLOSED = 2\n",
    "HH_OPEN = 3\n",
    "RIDE = 4\n",
    "TOM_1 = 5\n",
    "TOM_2 = 6\n",
    "TOM_3 = 7\n",
    "CRASH = 8\n",
    "NUM_FEATS = 9"
   ]
  },
  {
   "cell_type": "code",
   "execution_count": 8,
   "metadata": {},
   "outputs": [
    {
     "name": "stdout",
     "output_type": "stream",
     "text": [
      "feats.shape:  (6522, 100, 128)\n",
      "labels.shape:  (6522, 100, 9)\n",
      "new_0:  65220  rem:  0\n",
      "reshaped-dataset.shape:  (65220, 1, 10, 128, 1)\n",
      "reshaped-dataset.shape:  (65220, 9)\n"
     ]
    }
   ],
   "source": [
    "\n",
    "DATA_ID = '_5s_20hz'\n",
    "dataset_feats_path = \"data/dataset\" + DATA_ID + \"/\" + \"train_feats\" + DATA_ID + \".npy\"\n",
    "dataset_labels_path = \"data/dataset\" + DATA_ID + \"/\" + \"train_labels\" + DATA_ID + \".npy\"\n",
    "\n",
    "with tf.device('/CPU:0'):\n",
    "    # load in data\n",
    "    train_feats_npy = np.load(dataset_feats_path, allow_pickle=True)\n",
    "    train_labels_npy = np.load(dataset_labels_path, allow_pickle=True)\n",
    "    print ('feats.shape: ', train_feats_npy.shape)\n",
    "    print ('labels.shape: ', train_labels_npy.shape)\n",
    "    \n",
    "    # reshape numpy arrays\n",
    "    train_feats_npy = train_feats_npy.reshape(train_feats_npy.shape[0]*train_feats_npy.shape[1], train_feats_npy.shape[2])\n",
    "    train_labels_npy = train_labels_npy.reshape(train_labels_npy.shape[0]*train_labels_npy.shape[1], train_labels_npy.shape[2])\n",
    "    \n",
    "    new_0 = int(train_feats_npy.shape[0] / WINDOW_LEN)\n",
    "    rem = train_feats_npy.shape[0] - (new_0 * WINDOW_LEN)\n",
    "    \n",
    "    print ('new_0: ', new_0, ' rem: ', rem)\n",
    "    train_feats_npy = train_feats_npy.reshape(new_0, 1, WINDOW_LEN, 128, 1)\n",
    "    train_labels_npy = train_labels_npy.reshape(new_0, WINDOW_LEN, 9)\n",
    "    \n",
    "    reshaped_train_labels = np.zeros(shape=(new_0, 9))\n",
    "    for index in range(train_labels_npy.shape[0]):\n",
    "        for t in range(WINDOW_LEN):\n",
    "            reshaped_train_labels[index][KICK] += train_labels_npy[index][t][KICK]\n",
    "            reshaped_train_labels[index][SNARE] += train_labels_npy[index][t][SNARE]\n",
    "            reshaped_train_labels[index][HH_CLOSED] += train_labels_npy[index][t][HH_CLOSED]\n",
    "            reshaped_train_labels[index][HH_OPEN] += train_labels_npy[index][t][HH_OPEN]\n",
    "            reshaped_train_labels[index][RIDE] += train_labels_npy[index][t][RIDE]\n",
    "            reshaped_train_labels[index][TOM_1] += train_labels_npy[index][t][TOM_1]\n",
    "            reshaped_train_labels[index][TOM_2] += train_labels_npy[index][t][TOM_2]\n",
    "            reshaped_train_labels[index][TOM_3] += train_labels_npy[index][t][TOM_3]\n",
    "            reshaped_train_labels[index][CRASH] += train_labels_npy[index][t][CRASH]\n",
    "    reshaped_train_labels = reshaped_train_labels / WINDOW_LEN\n",
    "    train_labels_npy = np.where(reshaped_train_labels > 0.5, 1, 0)\n",
    "    \n",
    "    # train_feats_npy = np.reshape(train_feats_npy, (train_feats_npy.shape[0], 1, train_feats_npy.shape[1]))\n",
    "    # train_labels_npy = np.reshape(train_labels_npy, (train_labels_npy.shape[0], 1, train_labels_npy.shape[1]))\n",
    "    \n",
    "    print ('reshaped-dataset.shape: ', train_feats_npy.shape)\n",
    "    print ('reshaped-dataset.shape: ', train_labels_npy.shape)"
   ]
  },
  {
   "cell_type": "code",
   "execution_count": 9,
   "metadata": {},
   "outputs": [
    {
     "name": "stdout",
     "output_type": "stream",
     "text": [
      "Epoch 1/5\n",
      "2039/2039 [==============================] - 119s 56ms/step - loss: 0.9122 - macro_f1: 0.0878\n",
      "Epoch 2/5\n",
      "2039/2039 [==============================] - 111s 55ms/step - loss: 0.9123 - macro_f1: 0.0877\n",
      "Epoch 3/5\n",
      "2039/2039 [==============================] - 115s 56ms/step - loss: 0.9122 - macro_f1: 0.0878\n",
      "Epoch 4/5\n",
      "2039/2039 [==============================] - 109s 54ms/step - loss: 0.9123 - macro_f1: 0.0877\n",
      "Epoch 5/5\n",
      "2039/2039 [==============================] - 109s 53ms/step - loss: 0.9123 - macro_f1: 0.0877\n"
     ]
    },
    {
     "data": {
      "text/plain": [
       "<keras.callbacks.History at 0x132e3383940>"
      ]
     },
     "execution_count": 9,
     "metadata": {},
     "output_type": "execute_result"
    }
   ],
   "source": [
    "# train the network!\n",
    "EPOCHS = 5\n",
    "BATCH_SIZE = 32\n",
    "\n",
    "model.fit(train_feats_npy, train_labels_npy, epochs=EPOCHS, batch_size=BATCH_SIZE)"
   ]
  },
  {
   "cell_type": "code",
   "execution_count": 10,
   "metadata": {},
   "outputs": [
    {
     "name": "stdout",
     "output_type": "stream",
     "text": [
      "INFO:tensorflow:Assets written to: models/test_model\\assets\n"
     ]
    }
   ],
   "source": [
    "# save model\n",
    "\n",
    "MODEL_ID = 'test_model'\n",
    "model.save('models/' + MODEL_ID)"
   ]
  }
 ],
 "metadata": {
  "kernelspec": {
   "display_name": "Python 3.10.6 64-bit",
   "language": "python",
   "name": "python3"
  },
  "language_info": {
   "codemirror_mode": {
    "name": "ipython",
    "version": 3
   },
   "file_extension": ".py",
   "mimetype": "text/x-python",
   "name": "python",
   "nbconvert_exporter": "python",
   "pygments_lexer": "ipython3",
   "version": "3.10.6"
  },
  "orig_nbformat": 4,
  "vscode": {
   "interpreter": {
    "hash": "af153e239d61b5c0d363f35fe8a0509d492506f382d017c98fa3fb49fce70a72"
   }
  }
 },
 "nbformat": 4,
 "nbformat_minor": 2
}
