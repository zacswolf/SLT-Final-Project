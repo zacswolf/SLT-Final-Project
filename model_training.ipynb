{
 "cells": [
  {
   "cell_type": "code",
   "execution_count": 1,
   "metadata": {},
   "outputs": [],
   "source": [
    "# init imports\n",
    "\n",
    "import os\n",
    "import numpy as np\n",
    "import tensorflow as tf\n",
    "from tensorflow.keras.layers import (Dense,\n",
    "                                     BatchNormalization,\n",
    "                                     LeakyReLU,\n",
    "                                     Reshape,\n",
    "                                     Conv2DTranspose,\n",
    "                                     Conv2D,\n",
    "                                     Dropout,\n",
    "                                     Flatten)\n",
    "\n",
    "import matplotlib.pyplot as plt\n",
    "from PIL import Image"
   ]
  },
  {
   "cell_type": "code",
   "execution_count": 2,
   "metadata": {},
   "outputs": [],
   "source": [
    "BUFFER_SIZE = 65_536\n",
    "BATCH_SIZE = 8\n",
    "DATA_ID = '_5s_20hz'\n",
    "dataset_path = \"data/dataset\" + DATA_ID + \"/\" + \"train_feats\" + DATA_ID + \".npy\"\n",
    "\n",
    "with tf.device('/CPU:0'):\n",
    "    # load in dataset\n",
    "    train_dataset_npy = np.load(dataset_path, allow_pickle=True)\n",
    "    print ('dataset.shape: ', train_dataset_npy.shape)\n",
    "    # print ('train_dataset: ', train_dataset)\n",
    "    # normalize images to [-1, 1]\n",
    "    # norm_train_dataset = (train_dataset_npy / 127.5) - 1.0\n",
    "    # print ('normalized train_dataset: ', train_dataset)\n",
    "    # batch and shuffle data\n",
    "    train_dataset_tensor = tf.data.Dataset.from_tensor_slices(train_dataset_npy)\n",
    "    train_dataset_tensor = train_dataset_tensor.shuffle(BUFFER_SIZE).batch(BATCH_SIZE)\n",
    "    train_dataset_tensor = train_dataset_tensor.prefetch(tf.data.AUTOTUNE)\n",
    "    \n",
    "    print ('dataset-tensor.shape: ', train_dataset_tensor.cardinality())"
   ]
  },
  {
   "cell_type": "code",
   "execution_count": 3,
   "metadata": {},
   "outputs": [],
   "source": [
    "from ipynb.fs.full.dataset_creation import show_midi_plot\n",
    "\n",
    "def view_midi(np_array):\n",
    "    np_array = np_array.reshape(np_array.shape[0]*np_array.shape[1], np_array.shape[2])\n",
    "    show_midi_plot(np_array)"
   ]
  }
 ],
 "metadata": {
  "kernelspec": {
   "display_name": "Python 3.9.13 ('base')",
   "language": "python",
   "name": "python3"
  },
  "language_info": {
   "codemirror_mode": {
    "name": "ipython",
    "version": 3
   },
   "file_extension": ".py",
   "mimetype": "text/x-python",
   "name": "python",
   "nbconvert_exporter": "python",
   "pygments_lexer": "ipython3",
   "version": "3.9.13"
  },
  "orig_nbformat": 4,
  "vscode": {
   "interpreter": {
    "hash": "4872d8d3c2bbc685ce63036ae2af19b2205f6c9572f817ece472ff4ae51ff82f"
   }
  }
 },
 "nbformat": 4,
 "nbformat_minor": 2
}
