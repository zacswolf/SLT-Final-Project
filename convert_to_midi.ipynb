{
 "cells": [
  {
   "cell_type": "code",
   "execution_count": null,
   "metadata": {},
   "outputs": [],
   "source": [
    "# 0.0 import packages\n",
    "\n",
    "import shutil\n",
    "import os\n",
    "import mido\n",
    "import numpy as np\n",
    "import matplotlib.pyplot as plot"
   ]
  },
  {
   "cell_type": "code",
   "execution_count": null,
   "metadata": {},
   "outputs": [],
   "source": [
    "# midi value for instruments\n",
    "MIDI_OFFSET = 0\n",
    "\n",
    "# mappings for our own training (9)\n",
    "KICK = 0\n",
    "SNARE = 1\n",
    "HH_CLOSED = 2\n",
    "HH_OPEN = 3\n",
    "RIDE = 4\n",
    "TOM_1 = 5\n",
    "TOM_2 = 6\n",
    "TOM_3 = 7\n",
    "CRASH = 8\n",
    "NUM_FEATS = 9"
   ]
  },
  {
   "cell_type": "code",
   "execution_count": null,
   "metadata": {},
   "outputs": [],
   "source": [
    "# 1.0 helper functions\n",
    "# code modified from:\n",
    "# https://medium.com/analytics-vidhya/convert-midi-file-to-numpy-array-in-python-7d00531890c\n",
    "\n",
    "# grow an array down keeping the distance between values proportional\n",
    "def grow_array_proportionally(midi_array, target_resize):\n",
    "    resized_array = np.zeros((target_resize, midi_array.shape[1]))\n",
    "    ratio = midi_array.shape[0] / target_resize\n",
    "    # iterate through each time-step\n",
    "    for t in range(target_resize): \n",
    "        # for each value\n",
    "        for i in range(midi_array.shape[1]):\n",
    "            t2 = int(t * ratio)\n",
    "            value = midi_array[t2][i]\n",
    "            if value > 0:\n",
    "                resized_array[t][i] = 127\n",
    "    return resized_array\n",
    "\n",
    "def show_midi_plot(midi_array):\n",
    "    midi_array = np.flip(midi_array.T, axis=0)\n",
    "    f = plot.figure()\n",
    "    f.set_figwidth(20)\n",
    "    f.set_figheight(10)\n",
    "    plot.imshow(midi_array, cmap='binary', interpolation='None', aspect=\"auto\")\n",
    "    plot.show()\n",
    "\n",
    "def convert_array_to_midi(np_array, length_seconds, tempo=500_000):\n",
    "    # get new length of array in ticks\n",
    "    ticks = int(mido.second2tick(second=length_seconds, ticks_per_beat=480, tempo=tempo))\n",
    "    # resize array proportionally\n",
    "    np_array = grow_array_proportionally(np_array, ticks)\n",
    "    # resize array to midi compatable (88 keys)\n",
    "    midi_ready_array = np.zeros(shape=(ticks, 88))\n",
    "    for i in range(NUM_FEATS):\n",
    "        midi_ready_array[:,i + MIDI_OFFSET] = np_array[:,i]\n",
    "    # get the difference\n",
    "    new_ary = np.concatenate([np.array([[0] * 88]), np.array(midi_ready_array, dtype='int64')], axis=0)\n",
    "    changes = new_ary[1:] - new_ary[:-1]\n",
    "    # create a midi file with an empty track\n",
    "    mid_new = mido.MidiFile()\n",
    "    track = mido.MidiTrack()\n",
    "    mid_new.tracks.append(track)\n",
    "    track.append(mido.MetaMessage('set_tempo', tempo=tempo, time=0))\n",
    "    # add difference in the empty track\n",
    "    last_time = 0\n",
    "    for ch in changes:\n",
    "        if set(ch) == {0}:  # no change\n",
    "            last_time += 1\n",
    "        else:\n",
    "            on_notes = np.where(ch > 0)[0]\n",
    "            on_notes_vol = ch[on_notes]\n",
    "            off_notes = np.where(ch < 0)[0]\n",
    "            first_ = True\n",
    "            for n, v in zip(on_notes, on_notes_vol):\n",
    "                new_time = last_time if first_ else 0\n",
    "                track.append(mido.Message('note_on', note=n+21, velocity=v, time=new_time))\n",
    "                first_ = False\n",
    "            for n in off_notes:\n",
    "                new_time = last_time if first_ else 0\n",
    "                track.append(mido.Message('note_off', note=n+21, velocity=0, time=new_time))\n",
    "                first_ = False\n",
    "            last_time = 0\n",
    "    return mid_new"
   ]
  },
  {
   "cell_type": "code",
   "execution_count": null,
   "metadata": {},
   "outputs": [],
   "source": [
    "# 2.0 load arrays from file\n",
    "\n",
    "data_id = '_15s_100hz'\n",
    "train_labels = np.load(\"data/dataset\" + data_id + \"/train_labels\" + data_id + \".npy\", allow_pickle=True)\n",
    "\n",
    "print (\"train_labels.shape: \", train_labels.shape)\n",
    "\n",
    "midi_file = convert_array_to_midi(train_labels[0], length_seconds=15, tempo=500_000)\n",
    "#midi_file.save('data/midi/test_midi_file.mid')"
   ]
  }
 ],
 "metadata": {
  "kernelspec": {
   "display_name": "Python 3.10.6 64-bit",
   "language": "python",
   "name": "python3"
  },
  "language_info": {
   "codemirror_mode": {
    "name": "ipython",
    "version": 3
   },
   "file_extension": ".py",
   "mimetype": "text/x-python",
   "name": "python",
   "nbconvert_exporter": "python",
   "pygments_lexer": "ipython3",
   "version": "3.10.6"
  },
  "orig_nbformat": 4,
  "vscode": {
   "interpreter": {
    "hash": "af153e239d61b5c0d363f35fe8a0509d492506f382d017c98fa3fb49fce70a72"
   }
  }
 },
 "nbformat": 4,
 "nbformat_minor": 2
}
