{
 "cells": [
  {
   "cell_type": "code",
   "execution_count": null,
   "metadata": {},
   "outputs": [],
   "source": [
    "import yaml\n",
    "from utils.tools import dotdict\n",
    "import os\n",
    "import numpy as np\n",
    "import matplotlib.pyplot as plt\n",
    "\n",
    "log_dir = \"lightning_logs/bert_inspired_64_16_100ms/version_1\"\n",
    "with open(os.path.join(log_dir, \"hparams.yaml\"), \"r\") as file:\n",
    "    args = dotdict(yaml.load(file, Loader=yaml.FullLoader))\n",
    "args"
   ]
  },
  {
   "cell_type": "code",
   "execution_count": null,
   "metadata": {},
   "outputs": [],
   "source": [
    "device = 0\n",
    "output_path = os.path.join(log_dir, f\"results/output_pred_{device}.npy\")\n",
    "labels_path = os.path.join(log_dir, f\"results/labels_pred_{device}.npy\")\n",
    "\n",
    "output = np.load(output_path)\n",
    "labels = np.load(labels_path)"
   ]
  },
  {
   "cell_type": "code",
   "execution_count": null,
   "metadata": {},
   "outputs": [],
   "source": [
    "output_s = output.squeeze(1)\n",
    "labels_s = labels.squeeze(1)\n",
    "THRESHOLD =.2\n",
    "\n",
    "def sigmoid(x):\n",
    "    return 1.0 / (1.0 + np.exp(-x))\n",
    "\n",
    "output_sig = sigmoid(output_s)\n",
    "output_fil = output_sig> THRESHOLD"
   ]
  },
  {
   "cell_type": "code",
   "execution_count": null,
   "metadata": {},
   "outputs": [],
   "source": [
    "def show_midi_plot(midi_array):\n",
    "    midi_array = np.flip(midi_array.T, axis=0)\n",
    "    f = plt.figure()\n",
    "    f.set_figwidth(20)\n",
    "    f.set_figheight(5)\n",
    "    plt.imshow(midi_array, cmap='viridis', interpolation='None', aspect=\"auto\")\n",
    "    plt.show()"
   ]
  },
  {
   "cell_type": "code",
   "execution_count": null,
   "metadata": {},
   "outputs": [],
   "source": [
    "show_midi_plot(output_fil)"
   ]
  },
  {
   "cell_type": "code",
   "execution_count": null,
   "metadata": {},
   "outputs": [],
   "source": [
    "show_midi_plot(labels_s)"
   ]
  }
 ],
 "metadata": {
  "kernelspec": {
   "display_name": "Python 3.10.6 ('.venv': venv)",
   "language": "python",
   "name": "python3"
  },
  "language_info": {
   "codemirror_mode": {
    "name": "ipython",
    "version": 3
   },
   "file_extension": ".py",
   "mimetype": "text/x-python",
   "name": "python",
   "nbconvert_exporter": "python",
   "pygments_lexer": "ipython3",
   "version": "3.10.6"
  },
  "vscode": {
   "interpreter": {
    "hash": "da06df106b6ebc505395780f3c76810614ede012a8d0e2bc265d4156a4243031"
   }
  }
 },
 "nbformat": 4,
 "nbformat_minor": 2
}
