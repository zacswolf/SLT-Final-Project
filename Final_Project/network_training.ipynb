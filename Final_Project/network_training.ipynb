{
 "cells": [
  {
   "cell_type": "code",
   "execution_count": null,
   "metadata": {},
   "outputs": [],
   "source": [
    "# 0.0 import packages\n",
    "\n",
    "import sys\n",
    "import string\n",
    "import mido\n",
    "import numpy as np\n",
    "import pandas as pd\n",
    "\n",
    "import audiosegment\n",
    "import librosa\n",
    "import torch\n",
    "import shutil\n",
    "import os\n",
    "\n",
    "import matplotlib.pyplot as plot"
   ]
  },
  {
   "cell_type": "code",
   "execution_count": null,
   "metadata": {},
   "outputs": [],
   "source": [
    "# 0.2 GPU stuff\n",
    "\n",
    "print (\"cuda: \", torch.cuda.is_available())\n",
    "device = torch.device(\"cuda:0\" if torch.cuda.is_available() else \"cpu\")\n",
    "\n",
    "print (\"current device: \", device)\n",
    "print (\"count: \", torch.cuda.device_count())\n",
    "\n",
    "if torch.cuda.is_available():\n",
    "    print (\"device name: \", torch.cuda.get_device_name(0))\n",
    "    torch.cuda.set_device(0)"
   ]
  },
  {
   "cell_type": "code",
   "execution_count": null,
   "metadata": {},
   "outputs": [],
   "source": [
    "# 1.0 load in datasets\n",
    "\n",
    "train_feats = np.load(\"data/train_feats.npy\", allow_pickle=True)\n",
    "train_labels = np.load(\"data/train_labels.npy\", allow_pickle=True)\n",
    "test_feats = np.load(\"data/test_feats.npy\", allow_pickle=True)\n",
    "test_labels = np.load(\"data/test_labels.npy\", allow_pickle=True)\n",
    "val_feats = np.load(\"data/val_feats.npy\", allow_pickle=True)\n",
    "val_labels = np.load(\"data/val_labels.npy\", allow_pickle=True)\n",
    "\n",
    "print (\"train feats: \", len(train_feats), \" type: \", type(train_feats))\n",
    "print (\"train labels: \", len(train_labels), \" type: \", type(train_labels))\n",
    "\n",
    "print (\"test feats: \", len(test_feats), \" type: \", type(test_feats))\n",
    "print (\"test labels: \", len(test_labels), \" type: \", type(test_labels))\n",
    "\n",
    "print (\"val feats: \", len(val_feats), \" type: \", type(val_feats))\n",
    "print (\"val labels: \", len(val_labels), \" type: \", type(val_labels))\n",
    "\n",
    "# create tensors\n",
    "train_feats_tensor = torch.tensor(train_feats, requires_grad=True)\n",
    "train_labels_tensor = torch.tensor(train_labels)\n",
    "\n",
    "test_feats_tensor = torch.tensor(test_feats, requires_grad=True)\n",
    "test_labels_tensor = torch.tensor(test_labels)\n",
    "\n",
    "val_feats_tensor = torch.tensor(val_feats, requires_grad=True)\n",
    "val_labels_tensor = torch.tensor(val_labels)"
   ]
  }
 ],
 "metadata": {
  "kernelspec": {
   "display_name": "Python 3.9.12 ('base')",
   "language": "python",
   "name": "python3"
  },
  "language_info": {
   "codemirror_mode": {
    "name": "ipython",
    "version": 3
   },
   "file_extension": ".py",
   "mimetype": "text/x-python",
   "name": "python",
   "nbconvert_exporter": "python",
   "pygments_lexer": "ipython3",
   "version": "3.9.12"
  },
  "orig_nbformat": 4,
  "vscode": {
   "interpreter": {
    "hash": "4872d8d3c2bbc685ce63036ae2af19b2205f6c9572f817ece472ff4ae51ff82f"
   }
  }
 },
 "nbformat": 4,
 "nbformat_minor": 2
}
